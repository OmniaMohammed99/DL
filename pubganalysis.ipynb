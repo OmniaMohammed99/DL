{
 "cells": [
  {
   "cell_type": "code",
   "execution_count": 1,
   "id": "b7f02f69",
   "metadata": {
    "_cell_guid": "b1076dfc-b9ad-4769-8c92-a6c4dae69d19",
    "_uuid": "8f2839f25d086af736a60e9eeb907d3b93b6e0e5",
    "execution": {
     "iopub.execute_input": "2024-12-21T22:32:39.654873Z",
     "iopub.status.busy": "2024-12-21T22:32:39.654406Z",
     "iopub.status.idle": "2024-12-21T22:32:40.047658Z",
     "shell.execute_reply": "2024-12-21T22:32:40.046498Z"
    },
    "papermill": {
     "duration": 0.403431,
     "end_time": "2024-12-21T22:32:40.049319",
     "exception": false,
     "start_time": "2024-12-21T22:32:39.645888",
     "status": "completed"
    },
    "tags": []
   },
   "outputs": [
    {
     "name": "stdout",
     "output_type": "stream",
     "text": [
      "/kaggle/input/pubg-dataset/data.csv\n"
     ]
    }
   ],
   "source": [
    "# This Python 3 environment comes with many helpful analytics libraries installed\n",
    "# It is defined by the kaggle/python Docker image: https://github.com/kaggle/docker-python\n",
    "# For example, here's several helpful packages to load\n",
    "\n",
    "import numpy as np # linear algebra\n",
    "import pandas as pd # data processing, CSV file I/O (e.g. pd.read_csv)\n",
    "\n",
    "# Input data files are available in the read-only \"../input/\" directory\n",
    "# For example, running this (by clicking run or pressing Shift+Enter) will list all files under the input directory\n",
    "\n",
    "import os\n",
    "for dirname, _, filenames in os.walk('/kaggle/input'):\n",
    "    for filename in filenames:\n",
    "        print(os.path.join(dirname, filename))\n",
    "\n",
    "# You can write up to 20GB to the current directory (/kaggle/working/) that gets preserved as output when you create a version using \"Save & Run All\" \n",
    "# You can also write temporary files to /kaggle/temp/, but they won't be saved outside of the current session"
   ]
  },
  {
   "cell_type": "code",
   "execution_count": 2,
   "id": "f12760a3",
   "metadata": {
    "execution": {
     "iopub.execute_input": "2024-12-21T22:32:40.063497Z",
     "iopub.status.busy": "2024-12-21T22:32:40.063020Z",
     "iopub.status.idle": "2024-12-21T22:32:40.067184Z",
     "shell.execute_reply": "2024-12-21T22:32:40.066268Z"
    },
    "papermill": {
     "duration": 0.01283,
     "end_time": "2024-12-21T22:32:40.068828",
     "exception": false,
     "start_time": "2024-12-21T22:32:40.055998",
     "status": "completed"
    },
    "tags": []
   },
   "outputs": [],
   "source": [
    "import pandas as pd\n",
    "import numpy as np\n"
   ]
  },
  {
   "cell_type": "code",
   "execution_count": 3,
   "id": "8483732f",
   "metadata": {
    "execution": {
     "iopub.execute_input": "2024-12-21T22:32:40.082923Z",
     "iopub.status.busy": "2024-12-21T22:32:40.082507Z",
     "iopub.status.idle": "2024-12-21T22:32:46.714936Z",
     "shell.execute_reply": "2024-12-21T22:32:46.713856Z"
    },
    "papermill": {
     "duration": 6.641488,
     "end_time": "2024-12-21T22:32:46.716669",
     "exception": false,
     "start_time": "2024-12-21T22:32:40.075181",
     "status": "completed"
    },
    "tags": []
   },
   "outputs": [
    {
     "data": {
      "text/html": [
       "<div>\n",
       "<style scoped>\n",
       "    .dataframe tbody tr th:only-of-type {\n",
       "        vertical-align: middle;\n",
       "    }\n",
       "\n",
       "    .dataframe tbody tr th {\n",
       "        vertical-align: top;\n",
       "    }\n",
       "\n",
       "    .dataframe thead th {\n",
       "        text-align: right;\n",
       "    }\n",
       "</style>\n",
       "<table border=\"1\" class=\"dataframe\">\n",
       "  <thead>\n",
       "    <tr style=\"text-align: right;\">\n",
       "      <th></th>\n",
       "      <th>Unnamed: 0</th>\n",
       "      <th>Id</th>\n",
       "      <th>groupId</th>\n",
       "      <th>matchId</th>\n",
       "      <th>assists</th>\n",
       "      <th>boosts</th>\n",
       "      <th>damageDealt</th>\n",
       "      <th>DBNOs</th>\n",
       "      <th>headshotKills</th>\n",
       "      <th>heals</th>\n",
       "      <th>...</th>\n",
       "      <th>revives</th>\n",
       "      <th>rideDistance</th>\n",
       "      <th>roadKills</th>\n",
       "      <th>swimDistance</th>\n",
       "      <th>teamKills</th>\n",
       "      <th>vehicleDestroys</th>\n",
       "      <th>walkDistance</th>\n",
       "      <th>weaponsAcquired</th>\n",
       "      <th>winPoints</th>\n",
       "      <th>winPlacePerc</th>\n",
       "    </tr>\n",
       "  </thead>\n",
       "  <tbody>\n",
       "    <tr>\n",
       "      <th>0</th>\n",
       "      <td>2093518</td>\n",
       "      <td>a3e3cea9f2e314</td>\n",
       "      <td>c9f6eaa81245b5</td>\n",
       "      <td>a3d8693390584c</td>\n",
       "      <td>0</td>\n",
       "      <td>0</td>\n",
       "      <td>25.93</td>\n",
       "      <td>0</td>\n",
       "      <td>0</td>\n",
       "      <td>0</td>\n",
       "      <td>...</td>\n",
       "      <td>0</td>\n",
       "      <td>0.0</td>\n",
       "      <td>0</td>\n",
       "      <td>0.000</td>\n",
       "      <td>0</td>\n",
       "      <td>0</td>\n",
       "      <td>151.30</td>\n",
       "      <td>1</td>\n",
       "      <td>1525</td>\n",
       "      <td>0.0667</td>\n",
       "    </tr>\n",
       "    <tr>\n",
       "      <th>1</th>\n",
       "      <td>3701672</td>\n",
       "      <td>43e4be7ad72cc7</td>\n",
       "      <td>521836de101ee8</td>\n",
       "      <td>b65de9055327e0</td>\n",
       "      <td>0</td>\n",
       "      <td>0</td>\n",
       "      <td>36.71</td>\n",
       "      <td>0</td>\n",
       "      <td>0</td>\n",
       "      <td>0</td>\n",
       "      <td>...</td>\n",
       "      <td>0</td>\n",
       "      <td>0.0</td>\n",
       "      <td>0</td>\n",
       "      <td>0.000</td>\n",
       "      <td>0</td>\n",
       "      <td>0</td>\n",
       "      <td>1918.00</td>\n",
       "      <td>7</td>\n",
       "      <td>1516</td>\n",
       "      <td>0.5862</td>\n",
       "    </tr>\n",
       "    <tr>\n",
       "      <th>2</th>\n",
       "      <td>2059784</td>\n",
       "      <td>9a68690e31fdff</td>\n",
       "      <td>4a72ffa2cebd90</td>\n",
       "      <td>d6aad3f9830e60</td>\n",
       "      <td>0</td>\n",
       "      <td>1</td>\n",
       "      <td>47.73</td>\n",
       "      <td>0</td>\n",
       "      <td>0</td>\n",
       "      <td>0</td>\n",
       "      <td>...</td>\n",
       "      <td>0</td>\n",
       "      <td>4088.0</td>\n",
       "      <td>0</td>\n",
       "      <td>0.000</td>\n",
       "      <td>0</td>\n",
       "      <td>0</td>\n",
       "      <td>820.00</td>\n",
       "      <td>7</td>\n",
       "      <td>0</td>\n",
       "      <td>0.8105</td>\n",
       "    </tr>\n",
       "    <tr>\n",
       "      <th>3</th>\n",
       "      <td>1302036</td>\n",
       "      <td>b147e1bd448fc4</td>\n",
       "      <td>9a8991656b3fea</td>\n",
       "      <td>d931c0932d8aca</td>\n",
       "      <td>0</td>\n",
       "      <td>0</td>\n",
       "      <td>0.00</td>\n",
       "      <td>0</td>\n",
       "      <td>0</td>\n",
       "      <td>0</td>\n",
       "      <td>...</td>\n",
       "      <td>1</td>\n",
       "      <td>0.0</td>\n",
       "      <td>0</td>\n",
       "      <td>0.000</td>\n",
       "      <td>0</td>\n",
       "      <td>0</td>\n",
       "      <td>38.81</td>\n",
       "      <td>0</td>\n",
       "      <td>1515</td>\n",
       "      <td>0.5556</td>\n",
       "    </tr>\n",
       "    <tr>\n",
       "      <th>4</th>\n",
       "      <td>297180</td>\n",
       "      <td>d818b4edd59612</td>\n",
       "      <td>eece87c8b846b3</td>\n",
       "      <td>ec2b5ed94baae3</td>\n",
       "      <td>0</td>\n",
       "      <td>2</td>\n",
       "      <td>100.00</td>\n",
       "      <td>0</td>\n",
       "      <td>0</td>\n",
       "      <td>3</td>\n",
       "      <td>...</td>\n",
       "      <td>0</td>\n",
       "      <td>918.4</td>\n",
       "      <td>0</td>\n",
       "      <td>0.000</td>\n",
       "      <td>0</td>\n",
       "      <td>0</td>\n",
       "      <td>1721.00</td>\n",
       "      <td>5</td>\n",
       "      <td>0</td>\n",
       "      <td>0.6429</td>\n",
       "    </tr>\n",
       "    <tr>\n",
       "      <th>...</th>\n",
       "      <td>...</td>\n",
       "      <td>...</td>\n",
       "      <td>...</td>\n",
       "      <td>...</td>\n",
       "      <td>...</td>\n",
       "      <td>...</td>\n",
       "      <td>...</td>\n",
       "      <td>...</td>\n",
       "      <td>...</td>\n",
       "      <td>...</td>\n",
       "      <td>...</td>\n",
       "      <td>...</td>\n",
       "      <td>...</td>\n",
       "      <td>...</td>\n",
       "      <td>...</td>\n",
       "      <td>...</td>\n",
       "      <td>...</td>\n",
       "      <td>...</td>\n",
       "      <td>...</td>\n",
       "      <td>...</td>\n",
       "      <td>...</td>\n",
       "    </tr>\n",
       "    <tr>\n",
       "      <th>1111737</th>\n",
       "      <td>4209703</td>\n",
       "      <td>43739241d6a8e8</td>\n",
       "      <td>afb7c87045825e</td>\n",
       "      <td>ad5719d2422207</td>\n",
       "      <td>0</td>\n",
       "      <td>0</td>\n",
       "      <td>70.31</td>\n",
       "      <td>0</td>\n",
       "      <td>0</td>\n",
       "      <td>0</td>\n",
       "      <td>...</td>\n",
       "      <td>0</td>\n",
       "      <td>0.0</td>\n",
       "      <td>0</td>\n",
       "      <td>0.000</td>\n",
       "      <td>0</td>\n",
       "      <td>0</td>\n",
       "      <td>799.80</td>\n",
       "      <td>2</td>\n",
       "      <td>0</td>\n",
       "      <td>0.3929</td>\n",
       "    </tr>\n",
       "    <tr>\n",
       "      <th>1111738</th>\n",
       "      <td>4311549</td>\n",
       "      <td>d57c8a22a9e38b</td>\n",
       "      <td>85e0624ddd2cb0</td>\n",
       "      <td>c3f50eef6dbb01</td>\n",
       "      <td>0</td>\n",
       "      <td>3</td>\n",
       "      <td>334.10</td>\n",
       "      <td>0</td>\n",
       "      <td>0</td>\n",
       "      <td>1</td>\n",
       "      <td>...</td>\n",
       "      <td>0</td>\n",
       "      <td>1549.0</td>\n",
       "      <td>0</td>\n",
       "      <td>0.000</td>\n",
       "      <td>0</td>\n",
       "      <td>0</td>\n",
       "      <td>2777.00</td>\n",
       "      <td>7</td>\n",
       "      <td>0</td>\n",
       "      <td>0.8542</td>\n",
       "    </tr>\n",
       "    <tr>\n",
       "      <th>1111739</th>\n",
       "      <td>3521011</td>\n",
       "      <td>c7ad131758ba55</td>\n",
       "      <td>b3759687b385b3</td>\n",
       "      <td>990a8d68ec2bc4</td>\n",
       "      <td>0</td>\n",
       "      <td>0</td>\n",
       "      <td>119.30</td>\n",
       "      <td>1</td>\n",
       "      <td>0</td>\n",
       "      <td>0</td>\n",
       "      <td>...</td>\n",
       "      <td>0</td>\n",
       "      <td>0.0</td>\n",
       "      <td>0</td>\n",
       "      <td>0.000</td>\n",
       "      <td>0</td>\n",
       "      <td>0</td>\n",
       "      <td>60.45</td>\n",
       "      <td>1</td>\n",
       "      <td>0</td>\n",
       "      <td>0.7174</td>\n",
       "    </tr>\n",
       "    <tr>\n",
       "      <th>1111740</th>\n",
       "      <td>2138826</td>\n",
       "      <td>8237d06ea2c508</td>\n",
       "      <td>13a05023ab7735</td>\n",
       "      <td>f93b1f0defaee5</td>\n",
       "      <td>1</td>\n",
       "      <td>4</td>\n",
       "      <td>53.51</td>\n",
       "      <td>1</td>\n",
       "      <td>0</td>\n",
       "      <td>7</td>\n",
       "      <td>...</td>\n",
       "      <td>1</td>\n",
       "      <td>3610.0</td>\n",
       "      <td>0</td>\n",
       "      <td>0.000</td>\n",
       "      <td>1</td>\n",
       "      <td>0</td>\n",
       "      <td>2209.00</td>\n",
       "      <td>4</td>\n",
       "      <td>0</td>\n",
       "      <td>0.9000</td>\n",
       "    </tr>\n",
       "    <tr>\n",
       "      <th>1111741</th>\n",
       "      <td>609836</td>\n",
       "      <td>9beb0064c56445</td>\n",
       "      <td>5cfa1834dc5b11</td>\n",
       "      <td>0406ce4ab7a1bd</td>\n",
       "      <td>5</td>\n",
       "      <td>3</td>\n",
       "      <td>607.40</td>\n",
       "      <td>3</td>\n",
       "      <td>0</td>\n",
       "      <td>3</td>\n",
       "      <td>...</td>\n",
       "      <td>0</td>\n",
       "      <td>713.9</td>\n",
       "      <td>0</td>\n",
       "      <td>8.912</td>\n",
       "      <td>0</td>\n",
       "      <td>0</td>\n",
       "      <td>3713.00</td>\n",
       "      <td>5</td>\n",
       "      <td>1611</td>\n",
       "      <td>1.0000</td>\n",
       "    </tr>\n",
       "  </tbody>\n",
       "</table>\n",
       "<p>1111742 rows × 30 columns</p>\n",
       "</div>"
      ],
      "text/plain": [
       "         Unnamed: 0              Id         groupId         matchId  assists  \\\n",
       "0           2093518  a3e3cea9f2e314  c9f6eaa81245b5  a3d8693390584c        0   \n",
       "1           3701672  43e4be7ad72cc7  521836de101ee8  b65de9055327e0        0   \n",
       "2           2059784  9a68690e31fdff  4a72ffa2cebd90  d6aad3f9830e60        0   \n",
       "3           1302036  b147e1bd448fc4  9a8991656b3fea  d931c0932d8aca        0   \n",
       "4            297180  d818b4edd59612  eece87c8b846b3  ec2b5ed94baae3        0   \n",
       "...             ...             ...             ...             ...      ...   \n",
       "1111737     4209703  43739241d6a8e8  afb7c87045825e  ad5719d2422207        0   \n",
       "1111738     4311549  d57c8a22a9e38b  85e0624ddd2cb0  c3f50eef6dbb01        0   \n",
       "1111739     3521011  c7ad131758ba55  b3759687b385b3  990a8d68ec2bc4        0   \n",
       "1111740     2138826  8237d06ea2c508  13a05023ab7735  f93b1f0defaee5        1   \n",
       "1111741      609836  9beb0064c56445  5cfa1834dc5b11  0406ce4ab7a1bd        5   \n",
       "\n",
       "         boosts  damageDealt  DBNOs  headshotKills  heals  ...  revives  \\\n",
       "0             0        25.93      0              0      0  ...        0   \n",
       "1             0        36.71      0              0      0  ...        0   \n",
       "2             1        47.73      0              0      0  ...        0   \n",
       "3             0         0.00      0              0      0  ...        1   \n",
       "4             2       100.00      0              0      3  ...        0   \n",
       "...         ...          ...    ...            ...    ...  ...      ...   \n",
       "1111737       0        70.31      0              0      0  ...        0   \n",
       "1111738       3       334.10      0              0      1  ...        0   \n",
       "1111739       0       119.30      1              0      0  ...        0   \n",
       "1111740       4        53.51      1              0      7  ...        1   \n",
       "1111741       3       607.40      3              0      3  ...        0   \n",
       "\n",
       "         rideDistance  roadKills  swimDistance  teamKills  vehicleDestroys  \\\n",
       "0                 0.0          0         0.000          0                0   \n",
       "1                 0.0          0         0.000          0                0   \n",
       "2              4088.0          0         0.000          0                0   \n",
       "3                 0.0          0         0.000          0                0   \n",
       "4               918.4          0         0.000          0                0   \n",
       "...               ...        ...           ...        ...              ...   \n",
       "1111737           0.0          0         0.000          0                0   \n",
       "1111738        1549.0          0         0.000          0                0   \n",
       "1111739           0.0          0         0.000          0                0   \n",
       "1111740        3610.0          0         0.000          1                0   \n",
       "1111741         713.9          0         8.912          0                0   \n",
       "\n",
       "        walkDistance  weaponsAcquired  winPoints  winPlacePerc  \n",
       "0             151.30                1       1525        0.0667  \n",
       "1            1918.00                7       1516        0.5862  \n",
       "2             820.00                7          0        0.8105  \n",
       "3              38.81                0       1515        0.5556  \n",
       "4            1721.00                5          0        0.6429  \n",
       "...              ...              ...        ...           ...  \n",
       "1111737       799.80                2          0        0.3929  \n",
       "1111738      2777.00                7          0        0.8542  \n",
       "1111739        60.45                1          0        0.7174  \n",
       "1111740      2209.00                4          0        0.9000  \n",
       "1111741      3713.00                5       1611        1.0000  \n",
       "\n",
       "[1111742 rows x 30 columns]"
      ]
     },
     "execution_count": 3,
     "metadata": {},
     "output_type": "execute_result"
    }
   ],
   "source": [
    "df = pd.read_csv('/kaggle/input/pubg-dataset/data.csv')\n",
    "df"
   ]
  },
  {
   "cell_type": "code",
   "execution_count": 4,
   "id": "8cda81df",
   "metadata": {
    "execution": {
     "iopub.execute_input": "2024-12-21T22:32:46.731551Z",
     "iopub.status.busy": "2024-12-21T22:32:46.731144Z",
     "iopub.status.idle": "2024-12-21T22:32:46.896972Z",
     "shell.execute_reply": "2024-12-21T22:32:46.896139Z"
    },
    "papermill": {
     "duration": 0.175366,
     "end_time": "2024-12-21T22:32:46.898943",
     "exception": false,
     "start_time": "2024-12-21T22:32:46.723577",
     "status": "completed"
    },
    "tags": []
   },
   "outputs": [],
   "source": [
    "# Sample 10% of the data\n",
    "data = df.sample(frac=0.1, random_state=42)\n"
   ]
  },
  {
   "cell_type": "code",
   "execution_count": 5,
   "id": "cd71a92f",
   "metadata": {
    "execution": {
     "iopub.execute_input": "2024-12-21T22:32:46.913601Z",
     "iopub.status.busy": "2024-12-21T22:32:46.913217Z",
     "iopub.status.idle": "2024-12-21T22:32:48.073063Z",
     "shell.execute_reply": "2024-12-21T22:32:48.072164Z"
    },
    "papermill": {
     "duration": 1.168996,
     "end_time": "2024-12-21T22:32:48.074814",
     "exception": false,
     "start_time": "2024-12-21T22:32:46.905818",
     "status": "completed"
    },
    "tags": []
   },
   "outputs": [],
   "source": [
    "# Save the sampled data\n",
    "data.to_csv('data.csv', index=False)\n"
   ]
  },
  {
   "cell_type": "code",
   "execution_count": 6,
   "id": "69705250",
   "metadata": {
    "execution": {
     "iopub.execute_input": "2024-12-21T22:32:48.089087Z",
     "iopub.status.busy": "2024-12-21T22:32:48.088772Z",
     "iopub.status.idle": "2024-12-21T22:32:48.151073Z",
     "shell.execute_reply": "2024-12-21T22:32:48.150110Z"
    },
    "papermill": {
     "duration": 0.071123,
     "end_time": "2024-12-21T22:32:48.152743",
     "exception": false,
     "start_time": "2024-12-21T22:32:48.081620",
     "status": "completed"
    },
    "tags": []
   },
   "outputs": [
    {
     "data": {
      "text/plain": [
       "Unnamed: 0         0\n",
       "Id                 0\n",
       "groupId            0\n",
       "matchId            0\n",
       "assists            0\n",
       "boosts             0\n",
       "damageDealt        0\n",
       "DBNOs              0\n",
       "headshotKills      0\n",
       "heals              0\n",
       "killPlace          0\n",
       "killPoints         0\n",
       "kills              0\n",
       "killStreaks        0\n",
       "longestKill        0\n",
       "matchDuration      0\n",
       "matchType          0\n",
       "maxPlace           0\n",
       "numGroups          0\n",
       "rankPoints         0\n",
       "revives            0\n",
       "rideDistance       0\n",
       "roadKills          0\n",
       "swimDistance       0\n",
       "teamKills          0\n",
       "vehicleDestroys    0\n",
       "walkDistance       0\n",
       "weaponsAcquired    0\n",
       "winPoints          0\n",
       "winPlacePerc       0\n",
       "dtype: int64"
      ]
     },
     "execution_count": 6,
     "metadata": {},
     "output_type": "execute_result"
    }
   ],
   "source": [
    "data.isna().sum()"
   ]
  },
  {
   "cell_type": "code",
   "execution_count": 7,
   "id": "047e54c4",
   "metadata": {
    "execution": {
     "iopub.execute_input": "2024-12-21T22:32:48.167190Z",
     "iopub.status.busy": "2024-12-21T22:32:48.166889Z",
     "iopub.status.idle": "2024-12-21T22:32:48.187142Z",
     "shell.execute_reply": "2024-12-21T22:32:48.186174Z"
    },
    "papermill": {
     "duration": 0.029132,
     "end_time": "2024-12-21T22:32:48.188706",
     "exception": false,
     "start_time": "2024-12-21T22:32:48.159574",
     "status": "completed"
    },
    "tags": []
   },
   "outputs": [
    {
     "data": {
      "text/html": [
       "<div>\n",
       "<style scoped>\n",
       "    .dataframe tbody tr th:only-of-type {\n",
       "        vertical-align: middle;\n",
       "    }\n",
       "\n",
       "    .dataframe tbody tr th {\n",
       "        vertical-align: top;\n",
       "    }\n",
       "\n",
       "    .dataframe thead th {\n",
       "        text-align: right;\n",
       "    }\n",
       "</style>\n",
       "<table border=\"1\" class=\"dataframe\">\n",
       "  <thead>\n",
       "    <tr style=\"text-align: right;\">\n",
       "      <th></th>\n",
       "      <th>Unnamed: 0</th>\n",
       "      <th>Id</th>\n",
       "      <th>groupId</th>\n",
       "      <th>matchId</th>\n",
       "      <th>assists</th>\n",
       "      <th>boosts</th>\n",
       "      <th>damageDealt</th>\n",
       "      <th>DBNOs</th>\n",
       "      <th>headshotKills</th>\n",
       "      <th>heals</th>\n",
       "      <th>...</th>\n",
       "      <th>revives</th>\n",
       "      <th>rideDistance</th>\n",
       "      <th>roadKills</th>\n",
       "      <th>swimDistance</th>\n",
       "      <th>teamKills</th>\n",
       "      <th>vehicleDestroys</th>\n",
       "      <th>walkDistance</th>\n",
       "      <th>weaponsAcquired</th>\n",
       "      <th>winPoints</th>\n",
       "      <th>winPlacePerc</th>\n",
       "    </tr>\n",
       "  </thead>\n",
       "  <tbody>\n",
       "    <tr>\n",
       "      <th>536505</th>\n",
       "      <td>853112</td>\n",
       "      <td>ea6e43832d2bce</td>\n",
       "      <td>647506aa224e7d</td>\n",
       "      <td>4b4a13649049a6</td>\n",
       "      <td>2</td>\n",
       "      <td>1</td>\n",
       "      <td>96.83</td>\n",
       "      <td>1</td>\n",
       "      <td>0</td>\n",
       "      <td>0</td>\n",
       "      <td>...</td>\n",
       "      <td>0</td>\n",
       "      <td>3994.0</td>\n",
       "      <td>1</td>\n",
       "      <td>0.0</td>\n",
       "      <td>0</td>\n",
       "      <td>0</td>\n",
       "      <td>2830.00</td>\n",
       "      <td>4</td>\n",
       "      <td>1667</td>\n",
       "      <td>1.0000</td>\n",
       "    </tr>\n",
       "    <tr>\n",
       "      <th>311369</th>\n",
       "      <td>205003</td>\n",
       "      <td>447840901e2793</td>\n",
       "      <td>e90d40e74a0dba</td>\n",
       "      <td>786765bc9c3210</td>\n",
       "      <td>2</td>\n",
       "      <td>4</td>\n",
       "      <td>355.40</td>\n",
       "      <td>2</td>\n",
       "      <td>0</td>\n",
       "      <td>5</td>\n",
       "      <td>...</td>\n",
       "      <td>0</td>\n",
       "      <td>0.0</td>\n",
       "      <td>0</td>\n",
       "      <td>0.0</td>\n",
       "      <td>0</td>\n",
       "      <td>0</td>\n",
       "      <td>1852.00</td>\n",
       "      <td>9</td>\n",
       "      <td>0</td>\n",
       "      <td>0.7500</td>\n",
       "    </tr>\n",
       "    <tr>\n",
       "      <th>605771</th>\n",
       "      <td>315398</td>\n",
       "      <td>d68381a67d4a06</td>\n",
       "      <td>779be5e847cba4</td>\n",
       "      <td>23924627dd9837</td>\n",
       "      <td>0</td>\n",
       "      <td>0</td>\n",
       "      <td>70.82</td>\n",
       "      <td>0</td>\n",
       "      <td>0</td>\n",
       "      <td>0</td>\n",
       "      <td>...</td>\n",
       "      <td>0</td>\n",
       "      <td>0.0</td>\n",
       "      <td>0</td>\n",
       "      <td>0.0</td>\n",
       "      <td>0</td>\n",
       "      <td>0</td>\n",
       "      <td>174.20</td>\n",
       "      <td>2</td>\n",
       "      <td>0</td>\n",
       "      <td>0.0690</td>\n",
       "    </tr>\n",
       "    <tr>\n",
       "      <th>685228</th>\n",
       "      <td>1556160</td>\n",
       "      <td>50b33ac512831c</td>\n",
       "      <td>d2523384663552</td>\n",
       "      <td>f4c53eee9ea665</td>\n",
       "      <td>1</td>\n",
       "      <td>2</td>\n",
       "      <td>158.80</td>\n",
       "      <td>1</td>\n",
       "      <td>0</td>\n",
       "      <td>0</td>\n",
       "      <td>...</td>\n",
       "      <td>0</td>\n",
       "      <td>0.0</td>\n",
       "      <td>0</td>\n",
       "      <td>0.0</td>\n",
       "      <td>0</td>\n",
       "      <td>0</td>\n",
       "      <td>317.90</td>\n",
       "      <td>1</td>\n",
       "      <td>1519</td>\n",
       "      <td>0.4286</td>\n",
       "    </tr>\n",
       "    <tr>\n",
       "      <th>246798</th>\n",
       "      <td>350911</td>\n",
       "      <td>fe335ebe675058</td>\n",
       "      <td>605f3eccb4398c</td>\n",
       "      <td>0e3ae0024137f1</td>\n",
       "      <td>1</td>\n",
       "      <td>2</td>\n",
       "      <td>241.20</td>\n",
       "      <td>4</td>\n",
       "      <td>0</td>\n",
       "      <td>8</td>\n",
       "      <td>...</td>\n",
       "      <td>0</td>\n",
       "      <td>0.0</td>\n",
       "      <td>0</td>\n",
       "      <td>0.0</td>\n",
       "      <td>1</td>\n",
       "      <td>0</td>\n",
       "      <td>1028.00</td>\n",
       "      <td>5</td>\n",
       "      <td>1580</td>\n",
       "      <td>0.6875</td>\n",
       "    </tr>\n",
       "    <tr>\n",
       "      <th>244298</th>\n",
       "      <td>3588744</td>\n",
       "      <td>6f0fd1b47a56d6</td>\n",
       "      <td>a7c433ed8587a1</td>\n",
       "      <td>959a4c32d70c87</td>\n",
       "      <td>0</td>\n",
       "      <td>0</td>\n",
       "      <td>55.75</td>\n",
       "      <td>0</td>\n",
       "      <td>0</td>\n",
       "      <td>0</td>\n",
       "      <td>...</td>\n",
       "      <td>0</td>\n",
       "      <td>0.0</td>\n",
       "      <td>0</td>\n",
       "      <td>0.0</td>\n",
       "      <td>0</td>\n",
       "      <td>0</td>\n",
       "      <td>1699.00</td>\n",
       "      <td>2</td>\n",
       "      <td>0</td>\n",
       "      <td>0.6939</td>\n",
       "    </tr>\n",
       "    <tr>\n",
       "      <th>906020</th>\n",
       "      <td>2343145</td>\n",
       "      <td>6f17e6742ab19c</td>\n",
       "      <td>e416392dec4793</td>\n",
       "      <td>71a289a63ac570</td>\n",
       "      <td>0</td>\n",
       "      <td>0</td>\n",
       "      <td>0.00</td>\n",
       "      <td>0</td>\n",
       "      <td>0</td>\n",
       "      <td>0</td>\n",
       "      <td>...</td>\n",
       "      <td>0</td>\n",
       "      <td>0.0</td>\n",
       "      <td>0</td>\n",
       "      <td>0.0</td>\n",
       "      <td>0</td>\n",
       "      <td>0</td>\n",
       "      <td>58.35</td>\n",
       "      <td>2</td>\n",
       "      <td>0</td>\n",
       "      <td>0.1290</td>\n",
       "    </tr>\n",
       "    <tr>\n",
       "      <th>420069</th>\n",
       "      <td>1486459</td>\n",
       "      <td>a3ccdad5479360</td>\n",
       "      <td>14109dbd367646</td>\n",
       "      <td>a1411c6f515b04</td>\n",
       "      <td>0</td>\n",
       "      <td>0</td>\n",
       "      <td>0.00</td>\n",
       "      <td>0</td>\n",
       "      <td>0</td>\n",
       "      <td>0</td>\n",
       "      <td>...</td>\n",
       "      <td>0</td>\n",
       "      <td>3666.0</td>\n",
       "      <td>0</td>\n",
       "      <td>0.0</td>\n",
       "      <td>0</td>\n",
       "      <td>0</td>\n",
       "      <td>988.60</td>\n",
       "      <td>3</td>\n",
       "      <td>0</td>\n",
       "      <td>0.5778</td>\n",
       "    </tr>\n",
       "    <tr>\n",
       "      <th>245427</th>\n",
       "      <td>3989858</td>\n",
       "      <td>9b46d28c05c2c4</td>\n",
       "      <td>770880a7089931</td>\n",
       "      <td>3dc56ff844d0b6</td>\n",
       "      <td>1</td>\n",
       "      <td>0</td>\n",
       "      <td>156.70</td>\n",
       "      <td>1</td>\n",
       "      <td>0</td>\n",
       "      <td>0</td>\n",
       "      <td>...</td>\n",
       "      <td>0</td>\n",
       "      <td>218.9</td>\n",
       "      <td>0</td>\n",
       "      <td>0.0</td>\n",
       "      <td>0</td>\n",
       "      <td>0</td>\n",
       "      <td>1608.00</td>\n",
       "      <td>5</td>\n",
       "      <td>0</td>\n",
       "      <td>0.5926</td>\n",
       "    </tr>\n",
       "    <tr>\n",
       "      <th>154704</th>\n",
       "      <td>149770</td>\n",
       "      <td>c3394ea58f5b16</td>\n",
       "      <td>8f140e8c10bc9a</td>\n",
       "      <td>56e75c3f016eda</td>\n",
       "      <td>1</td>\n",
       "      <td>2</td>\n",
       "      <td>102.60</td>\n",
       "      <td>0</td>\n",
       "      <td>0</td>\n",
       "      <td>3</td>\n",
       "      <td>...</td>\n",
       "      <td>0</td>\n",
       "      <td>0.0</td>\n",
       "      <td>0</td>\n",
       "      <td>0.0</td>\n",
       "      <td>0</td>\n",
       "      <td>0</td>\n",
       "      <td>1320.00</td>\n",
       "      <td>4</td>\n",
       "      <td>0</td>\n",
       "      <td>0.3077</td>\n",
       "    </tr>\n",
       "  </tbody>\n",
       "</table>\n",
       "<p>10 rows × 30 columns</p>\n",
       "</div>"
      ],
      "text/plain": [
       "        Unnamed: 0              Id         groupId         matchId  assists  \\\n",
       "536505      853112  ea6e43832d2bce  647506aa224e7d  4b4a13649049a6        2   \n",
       "311369      205003  447840901e2793  e90d40e74a0dba  786765bc9c3210        2   \n",
       "605771      315398  d68381a67d4a06  779be5e847cba4  23924627dd9837        0   \n",
       "685228     1556160  50b33ac512831c  d2523384663552  f4c53eee9ea665        1   \n",
       "246798      350911  fe335ebe675058  605f3eccb4398c  0e3ae0024137f1        1   \n",
       "244298     3588744  6f0fd1b47a56d6  a7c433ed8587a1  959a4c32d70c87        0   \n",
       "906020     2343145  6f17e6742ab19c  e416392dec4793  71a289a63ac570        0   \n",
       "420069     1486459  a3ccdad5479360  14109dbd367646  a1411c6f515b04        0   \n",
       "245427     3989858  9b46d28c05c2c4  770880a7089931  3dc56ff844d0b6        1   \n",
       "154704      149770  c3394ea58f5b16  8f140e8c10bc9a  56e75c3f016eda        1   \n",
       "\n",
       "        boosts  damageDealt  DBNOs  headshotKills  heals  ...  revives  \\\n",
       "536505       1        96.83      1              0      0  ...        0   \n",
       "311369       4       355.40      2              0      5  ...        0   \n",
       "605771       0        70.82      0              0      0  ...        0   \n",
       "685228       2       158.80      1              0      0  ...        0   \n",
       "246798       2       241.20      4              0      8  ...        0   \n",
       "244298       0        55.75      0              0      0  ...        0   \n",
       "906020       0         0.00      0              0      0  ...        0   \n",
       "420069       0         0.00      0              0      0  ...        0   \n",
       "245427       0       156.70      1              0      0  ...        0   \n",
       "154704       2       102.60      0              0      3  ...        0   \n",
       "\n",
       "        rideDistance  roadKills  swimDistance  teamKills  vehicleDestroys  \\\n",
       "536505        3994.0          1           0.0          0                0   \n",
       "311369           0.0          0           0.0          0                0   \n",
       "605771           0.0          0           0.0          0                0   \n",
       "685228           0.0          0           0.0          0                0   \n",
       "246798           0.0          0           0.0          1                0   \n",
       "244298           0.0          0           0.0          0                0   \n",
       "906020           0.0          0           0.0          0                0   \n",
       "420069        3666.0          0           0.0          0                0   \n",
       "245427         218.9          0           0.0          0                0   \n",
       "154704           0.0          0           0.0          0                0   \n",
       "\n",
       "       walkDistance  weaponsAcquired  winPoints  winPlacePerc  \n",
       "536505      2830.00                4       1667        1.0000  \n",
       "311369      1852.00                9          0        0.7500  \n",
       "605771       174.20                2          0        0.0690  \n",
       "685228       317.90                1       1519        0.4286  \n",
       "246798      1028.00                5       1580        0.6875  \n",
       "244298      1699.00                2          0        0.6939  \n",
       "906020        58.35                2          0        0.1290  \n",
       "420069       988.60                3          0        0.5778  \n",
       "245427      1608.00                5          0        0.5926  \n",
       "154704      1320.00                4          0        0.3077  \n",
       "\n",
       "[10 rows x 30 columns]"
      ]
     },
     "execution_count": 7,
     "metadata": {},
     "output_type": "execute_result"
    }
   ],
   "source": [
    "data.head(10)"
   ]
  },
  {
   "cell_type": "code",
   "execution_count": 8,
   "id": "c002fecf",
   "metadata": {
    "execution": {
     "iopub.execute_input": "2024-12-21T22:32:48.204463Z",
     "iopub.status.busy": "2024-12-21T22:32:48.204079Z",
     "iopub.status.idle": "2024-12-21T22:32:48.209445Z",
     "shell.execute_reply": "2024-12-21T22:32:48.208646Z"
    },
    "papermill": {
     "duration": 0.014843,
     "end_time": "2024-12-21T22:32:48.210856",
     "exception": false,
     "start_time": "2024-12-21T22:32:48.196013",
     "status": "completed"
    },
    "tags": []
   },
   "outputs": [
    {
     "data": {
      "text/plain": [
       "(111174, 30)"
      ]
     },
     "execution_count": 8,
     "metadata": {},
     "output_type": "execute_result"
    }
   ],
   "source": [
    "data.shape"
   ]
  },
  {
   "cell_type": "code",
   "execution_count": 9,
   "id": "c6c9d978",
   "metadata": {
    "execution": {
     "iopub.execute_input": "2024-12-21T22:32:48.226425Z",
     "iopub.status.busy": "2024-12-21T22:32:48.226062Z",
     "iopub.status.idle": "2024-12-21T22:32:48.364349Z",
     "shell.execute_reply": "2024-12-21T22:32:48.363418Z"
    },
    "papermill": {
     "duration": 0.147822,
     "end_time": "2024-12-21T22:32:48.365883",
     "exception": false,
     "start_time": "2024-12-21T22:32:48.218061",
     "status": "completed"
    },
    "tags": []
   },
   "outputs": [
    {
     "data": {
      "text/html": [
       "<div>\n",
       "<style scoped>\n",
       "    .dataframe tbody tr th:only-of-type {\n",
       "        vertical-align: middle;\n",
       "    }\n",
       "\n",
       "    .dataframe tbody tr th {\n",
       "        vertical-align: top;\n",
       "    }\n",
       "\n",
       "    .dataframe thead th {\n",
       "        text-align: right;\n",
       "    }\n",
       "</style>\n",
       "<table border=\"1\" class=\"dataframe\">\n",
       "  <thead>\n",
       "    <tr style=\"text-align: right;\">\n",
       "      <th></th>\n",
       "      <th>Unnamed: 0</th>\n",
       "      <th>assists</th>\n",
       "      <th>boosts</th>\n",
       "      <th>damageDealt</th>\n",
       "      <th>DBNOs</th>\n",
       "      <th>headshotKills</th>\n",
       "      <th>heals</th>\n",
       "      <th>killPlace</th>\n",
       "      <th>killPoints</th>\n",
       "      <th>kills</th>\n",
       "      <th>...</th>\n",
       "      <th>revives</th>\n",
       "      <th>rideDistance</th>\n",
       "      <th>roadKills</th>\n",
       "      <th>swimDistance</th>\n",
       "      <th>teamKills</th>\n",
       "      <th>vehicleDestroys</th>\n",
       "      <th>walkDistance</th>\n",
       "      <th>weaponsAcquired</th>\n",
       "      <th>winPoints</th>\n",
       "      <th>winPlacePerc</th>\n",
       "    </tr>\n",
       "  </thead>\n",
       "  <tbody>\n",
       "    <tr>\n",
       "      <th>count</th>\n",
       "      <td>1.111740e+05</td>\n",
       "      <td>111174.000000</td>\n",
       "      <td>111174.000000</td>\n",
       "      <td>111174.000000</td>\n",
       "      <td>111174.000000</td>\n",
       "      <td>111174.000000</td>\n",
       "      <td>111174.000000</td>\n",
       "      <td>111174.000000</td>\n",
       "      <td>111174.000000</td>\n",
       "      <td>111174.000000</td>\n",
       "      <td>...</td>\n",
       "      <td>111174.000000</td>\n",
       "      <td>111174.000000</td>\n",
       "      <td>111174.000000</td>\n",
       "      <td>111174.000000</td>\n",
       "      <td>111174.000000</td>\n",
       "      <td>111174.000000</td>\n",
       "      <td>111174.000000</td>\n",
       "      <td>111174.000000</td>\n",
       "      <td>111174.000000</td>\n",
       "      <td>111174.000000</td>\n",
       "    </tr>\n",
       "    <tr>\n",
       "      <th>mean</th>\n",
       "      <td>2.224781e+06</td>\n",
       "      <td>0.233256</td>\n",
       "      <td>1.111852</td>\n",
       "      <td>131.059127</td>\n",
       "      <td>0.658535</td>\n",
       "      <td>0.227841</td>\n",
       "      <td>1.378947</td>\n",
       "      <td>47.527434</td>\n",
       "      <td>505.192860</td>\n",
       "      <td>0.926862</td>\n",
       "      <td>...</td>\n",
       "      <td>0.164454</td>\n",
       "      <td>604.308405</td>\n",
       "      <td>0.003607</td>\n",
       "      <td>4.510096</td>\n",
       "      <td>0.023333</td>\n",
       "      <td>0.008023</td>\n",
       "      <td>1157.167032</td>\n",
       "      <td>3.667404</td>\n",
       "      <td>606.398385</td>\n",
       "      <td>0.473853</td>\n",
       "    </tr>\n",
       "    <tr>\n",
       "      <th>std</th>\n",
       "      <td>1.283020e+06</td>\n",
       "      <td>0.588900</td>\n",
       "      <td>1.720836</td>\n",
       "      <td>170.977864</td>\n",
       "      <td>1.146196</td>\n",
       "      <td>0.598067</td>\n",
       "      <td>2.703105</td>\n",
       "      <td>27.442337</td>\n",
       "      <td>627.814773</td>\n",
       "      <td>1.558280</td>\n",
       "      <td>...</td>\n",
       "      <td>0.476842</td>\n",
       "      <td>1495.781135</td>\n",
       "      <td>0.070945</td>\n",
       "      <td>30.061996</td>\n",
       "      <td>0.164366</td>\n",
       "      <td>0.093353</td>\n",
       "      <td>1184.023358</td>\n",
       "      <td>2.445068</td>\n",
       "      <td>739.722659</td>\n",
       "      <td>0.307378</td>\n",
       "    </tr>\n",
       "    <tr>\n",
       "      <th>min</th>\n",
       "      <td>3.000000e+01</td>\n",
       "      <td>0.000000</td>\n",
       "      <td>0.000000</td>\n",
       "      <td>0.000000</td>\n",
       "      <td>0.000000</td>\n",
       "      <td>0.000000</td>\n",
       "      <td>0.000000</td>\n",
       "      <td>1.000000</td>\n",
       "      <td>0.000000</td>\n",
       "      <td>0.000000</td>\n",
       "      <td>...</td>\n",
       "      <td>0.000000</td>\n",
       "      <td>0.000000</td>\n",
       "      <td>0.000000</td>\n",
       "      <td>0.000000</td>\n",
       "      <td>0.000000</td>\n",
       "      <td>0.000000</td>\n",
       "      <td>0.000000</td>\n",
       "      <td>0.000000</td>\n",
       "      <td>0.000000</td>\n",
       "      <td>0.000000</td>\n",
       "    </tr>\n",
       "    <tr>\n",
       "      <th>25%</th>\n",
       "      <td>1.115885e+06</td>\n",
       "      <td>0.000000</td>\n",
       "      <td>0.000000</td>\n",
       "      <td>0.000000</td>\n",
       "      <td>0.000000</td>\n",
       "      <td>0.000000</td>\n",
       "      <td>0.000000</td>\n",
       "      <td>24.000000</td>\n",
       "      <td>0.000000</td>\n",
       "      <td>0.000000</td>\n",
       "      <td>...</td>\n",
       "      <td>0.000000</td>\n",
       "      <td>0.000000</td>\n",
       "      <td>0.000000</td>\n",
       "      <td>0.000000</td>\n",
       "      <td>0.000000</td>\n",
       "      <td>0.000000</td>\n",
       "      <td>156.400000</td>\n",
       "      <td>2.000000</td>\n",
       "      <td>0.000000</td>\n",
       "      <td>0.200000</td>\n",
       "    </tr>\n",
       "    <tr>\n",
       "      <th>50%</th>\n",
       "      <td>2.221070e+06</td>\n",
       "      <td>0.000000</td>\n",
       "      <td>0.000000</td>\n",
       "      <td>84.550000</td>\n",
       "      <td>0.000000</td>\n",
       "      <td>0.000000</td>\n",
       "      <td>0.000000</td>\n",
       "      <td>47.000000</td>\n",
       "      <td>0.000000</td>\n",
       "      <td>0.000000</td>\n",
       "      <td>...</td>\n",
       "      <td>0.000000</td>\n",
       "      <td>0.000000</td>\n",
       "      <td>0.000000</td>\n",
       "      <td>0.000000</td>\n",
       "      <td>0.000000</td>\n",
       "      <td>0.000000</td>\n",
       "      <td>689.850000</td>\n",
       "      <td>3.000000</td>\n",
       "      <td>0.000000</td>\n",
       "      <td>0.461500</td>\n",
       "    </tr>\n",
       "    <tr>\n",
       "      <th>75%</th>\n",
       "      <td>3.335631e+06</td>\n",
       "      <td>0.000000</td>\n",
       "      <td>2.000000</td>\n",
       "      <td>186.000000</td>\n",
       "      <td>1.000000</td>\n",
       "      <td>0.000000</td>\n",
       "      <td>2.000000</td>\n",
       "      <td>71.000000</td>\n",
       "      <td>1173.000000</td>\n",
       "      <td>1.000000</td>\n",
       "      <td>...</td>\n",
       "      <td>0.000000</td>\n",
       "      <td>0.407125</td>\n",
       "      <td>0.000000</td>\n",
       "      <td>0.000000</td>\n",
       "      <td>0.000000</td>\n",
       "      <td>0.000000</td>\n",
       "      <td>1983.750000</td>\n",
       "      <td>5.000000</td>\n",
       "      <td>1495.000000</td>\n",
       "      <td>0.742300</td>\n",
       "    </tr>\n",
       "    <tr>\n",
       "      <th>max</th>\n",
       "      <td>4.446872e+06</td>\n",
       "      <td>12.000000</td>\n",
       "      <td>18.000000</td>\n",
       "      <td>4263.000000</td>\n",
       "      <td>23.000000</td>\n",
       "      <td>17.000000</td>\n",
       "      <td>49.000000</td>\n",
       "      <td>100.000000</td>\n",
       "      <td>2055.000000</td>\n",
       "      <td>47.000000</td>\n",
       "      <td>...</td>\n",
       "      <td>23.000000</td>\n",
       "      <td>22660.000000</td>\n",
       "      <td>5.000000</td>\n",
       "      <td>1098.000000</td>\n",
       "      <td>4.000000</td>\n",
       "      <td>4.000000</td>\n",
       "      <td>11520.000000</td>\n",
       "      <td>63.000000</td>\n",
       "      <td>1983.000000</td>\n",
       "      <td>1.000000</td>\n",
       "    </tr>\n",
       "  </tbody>\n",
       "</table>\n",
       "<p>8 rows × 26 columns</p>\n",
       "</div>"
      ],
      "text/plain": [
       "         Unnamed: 0        assists         boosts    damageDealt  \\\n",
       "count  1.111740e+05  111174.000000  111174.000000  111174.000000   \n",
       "mean   2.224781e+06       0.233256       1.111852     131.059127   \n",
       "std    1.283020e+06       0.588900       1.720836     170.977864   \n",
       "min    3.000000e+01       0.000000       0.000000       0.000000   \n",
       "25%    1.115885e+06       0.000000       0.000000       0.000000   \n",
       "50%    2.221070e+06       0.000000       0.000000      84.550000   \n",
       "75%    3.335631e+06       0.000000       2.000000     186.000000   \n",
       "max    4.446872e+06      12.000000      18.000000    4263.000000   \n",
       "\n",
       "               DBNOs  headshotKills          heals      killPlace  \\\n",
       "count  111174.000000  111174.000000  111174.000000  111174.000000   \n",
       "mean        0.658535       0.227841       1.378947      47.527434   \n",
       "std         1.146196       0.598067       2.703105      27.442337   \n",
       "min         0.000000       0.000000       0.000000       1.000000   \n",
       "25%         0.000000       0.000000       0.000000      24.000000   \n",
       "50%         0.000000       0.000000       0.000000      47.000000   \n",
       "75%         1.000000       0.000000       2.000000      71.000000   \n",
       "max        23.000000      17.000000      49.000000     100.000000   \n",
       "\n",
       "          killPoints          kills  ...        revives   rideDistance  \\\n",
       "count  111174.000000  111174.000000  ...  111174.000000  111174.000000   \n",
       "mean      505.192860       0.926862  ...       0.164454     604.308405   \n",
       "std       627.814773       1.558280  ...       0.476842    1495.781135   \n",
       "min         0.000000       0.000000  ...       0.000000       0.000000   \n",
       "25%         0.000000       0.000000  ...       0.000000       0.000000   \n",
       "50%         0.000000       0.000000  ...       0.000000       0.000000   \n",
       "75%      1173.000000       1.000000  ...       0.000000       0.407125   \n",
       "max      2055.000000      47.000000  ...      23.000000   22660.000000   \n",
       "\n",
       "           roadKills   swimDistance      teamKills  vehicleDestroys  \\\n",
       "count  111174.000000  111174.000000  111174.000000    111174.000000   \n",
       "mean        0.003607       4.510096       0.023333         0.008023   \n",
       "std         0.070945      30.061996       0.164366         0.093353   \n",
       "min         0.000000       0.000000       0.000000         0.000000   \n",
       "25%         0.000000       0.000000       0.000000         0.000000   \n",
       "50%         0.000000       0.000000       0.000000         0.000000   \n",
       "75%         0.000000       0.000000       0.000000         0.000000   \n",
       "max         5.000000    1098.000000       4.000000         4.000000   \n",
       "\n",
       "        walkDistance  weaponsAcquired      winPoints   winPlacePerc  \n",
       "count  111174.000000    111174.000000  111174.000000  111174.000000  \n",
       "mean     1157.167032         3.667404     606.398385       0.473853  \n",
       "std      1184.023358         2.445068     739.722659       0.307378  \n",
       "min         0.000000         0.000000       0.000000       0.000000  \n",
       "25%       156.400000         2.000000       0.000000       0.200000  \n",
       "50%       689.850000         3.000000       0.000000       0.461500  \n",
       "75%      1983.750000         5.000000    1495.000000       0.742300  \n",
       "max     11520.000000        63.000000    1983.000000       1.000000  \n",
       "\n",
       "[8 rows x 26 columns]"
      ]
     },
     "execution_count": 9,
     "metadata": {},
     "output_type": "execute_result"
    }
   ],
   "source": [
    "data.describe()"
   ]
  },
  {
   "cell_type": "code",
   "execution_count": 10,
   "id": "ee51fcb2",
   "metadata": {
    "execution": {
     "iopub.execute_input": "2024-12-21T22:32:48.382153Z",
     "iopub.status.busy": "2024-12-21T22:32:48.381822Z",
     "iopub.status.idle": "2024-12-21T22:32:48.459589Z",
     "shell.execute_reply": "2024-12-21T22:32:48.458231Z"
    },
    "papermill": {
     "duration": 0.087726,
     "end_time": "2024-12-21T22:32:48.461407",
     "exception": false,
     "start_time": "2024-12-21T22:32:48.373681",
     "status": "completed"
    },
    "tags": []
   },
   "outputs": [
    {
     "name": "stdout",
     "output_type": "stream",
     "text": [
      "<class 'pandas.core.frame.DataFrame'>\n",
      "Index: 111174 entries, 536505 to 169742\n",
      "Data columns (total 30 columns):\n",
      " #   Column           Non-Null Count   Dtype  \n",
      "---  ------           --------------   -----  \n",
      " 0   Unnamed: 0       111174 non-null  int64  \n",
      " 1   Id               111174 non-null  object \n",
      " 2   groupId          111174 non-null  object \n",
      " 3   matchId          111174 non-null  object \n",
      " 4   assists          111174 non-null  int64  \n",
      " 5   boosts           111174 non-null  int64  \n",
      " 6   damageDealt      111174 non-null  float64\n",
      " 7   DBNOs            111174 non-null  int64  \n",
      " 8   headshotKills    111174 non-null  int64  \n",
      " 9   heals            111174 non-null  int64  \n",
      " 10  killPlace        111174 non-null  int64  \n",
      " 11  killPoints       111174 non-null  int64  \n",
      " 12  kills            111174 non-null  int64  \n",
      " 13  killStreaks      111174 non-null  int64  \n",
      " 14  longestKill      111174 non-null  float64\n",
      " 15  matchDuration    111174 non-null  int64  \n",
      " 16  matchType        111174 non-null  object \n",
      " 17  maxPlace         111174 non-null  int64  \n",
      " 18  numGroups        111174 non-null  int64  \n",
      " 19  rankPoints       111174 non-null  int64  \n",
      " 20  revives          111174 non-null  int64  \n",
      " 21  rideDistance     111174 non-null  float64\n",
      " 22  roadKills        111174 non-null  int64  \n",
      " 23  swimDistance     111174 non-null  float64\n",
      " 24  teamKills        111174 non-null  int64  \n",
      " 25  vehicleDestroys  111174 non-null  int64  \n",
      " 26  walkDistance     111174 non-null  float64\n",
      " 27  weaponsAcquired  111174 non-null  int64  \n",
      " 28  winPoints        111174 non-null  int64  \n",
      " 29  winPlacePerc     111174 non-null  float64\n",
      "dtypes: float64(6), int64(20), object(4)\n",
      "memory usage: 26.3+ MB\n"
     ]
    }
   ],
   "source": [
    "data.info()"
   ]
  },
  {
   "cell_type": "code",
   "execution_count": 11,
   "id": "5d01f5e8",
   "metadata": {
    "execution": {
     "iopub.execute_input": "2024-12-21T22:32:48.478281Z",
     "iopub.status.busy": "2024-12-21T22:32:48.477964Z",
     "iopub.status.idle": "2024-12-21T22:32:48.675337Z",
     "shell.execute_reply": "2024-12-21T22:32:48.674369Z"
    },
    "papermill": {
     "duration": 0.2073,
     "end_time": "2024-12-21T22:32:48.676954",
     "exception": false,
     "start_time": "2024-12-21T22:32:48.469654",
     "status": "completed"
    },
    "tags": []
   },
   "outputs": [
    {
     "data": {
      "text/plain": [
       "0"
      ]
     },
     "execution_count": 11,
     "metadata": {},
     "output_type": "execute_result"
    }
   ],
   "source": [
    "data.duplicated().sum()"
   ]
  },
  {
   "cell_type": "code",
   "execution_count": 12,
   "id": "3fae286c",
   "metadata": {
    "execution": {
     "iopub.execute_input": "2024-12-21T22:32:48.693810Z",
     "iopub.status.busy": "2024-12-21T22:32:48.693493Z",
     "iopub.status.idle": "2024-12-21T22:32:48.698928Z",
     "shell.execute_reply": "2024-12-21T22:32:48.698188Z"
    },
    "papermill": {
     "duration": 0.015385,
     "end_time": "2024-12-21T22:32:48.700250",
     "exception": false,
     "start_time": "2024-12-21T22:32:48.684865",
     "status": "completed"
    },
    "tags": []
   },
   "outputs": [
    {
     "data": {
      "text/plain": [
       "Index(['Unnamed: 0', 'Id', 'groupId', 'matchId', 'assists', 'boosts',\n",
       "       'damageDealt', 'DBNOs', 'headshotKills', 'heals', 'killPlace',\n",
       "       'killPoints', 'kills', 'killStreaks', 'longestKill', 'matchDuration',\n",
       "       'matchType', 'maxPlace', 'numGroups', 'rankPoints', 'revives',\n",
       "       'rideDistance', 'roadKills', 'swimDistance', 'teamKills',\n",
       "       'vehicleDestroys', 'walkDistance', 'weaponsAcquired', 'winPoints',\n",
       "       'winPlacePerc'],\n",
       "      dtype='object')"
      ]
     },
     "execution_count": 12,
     "metadata": {},
     "output_type": "execute_result"
    }
   ],
   "source": [
    "data.columns"
   ]
  },
  {
   "cell_type": "code",
   "execution_count": 13,
   "id": "a5935376",
   "metadata": {
    "_kg_hide-output": true,
    "execution": {
     "iopub.execute_input": "2024-12-21T22:32:48.717111Z",
     "iopub.status.busy": "2024-12-21T22:32:48.716763Z",
     "iopub.status.idle": "2024-12-21T22:32:48.726624Z",
     "shell.execute_reply": "2024-12-21T22:32:48.725652Z"
    },
    "papermill": {
     "duration": 0.020029,
     "end_time": "2024-12-21T22:32:48.728270",
     "exception": false,
     "start_time": "2024-12-21T22:32:48.708241",
     "status": "completed"
    },
    "tags": []
   },
   "outputs": [],
   "source": [
    "data.drop(columns=['Unnamed: 0','matchId','Id' ,'groupId'],axis=1,inplace=True)"
   ]
  },
  {
   "cell_type": "code",
   "execution_count": 14,
   "id": "3c515e0a",
   "metadata": {
    "execution": {
     "iopub.execute_input": "2024-12-21T22:32:48.744965Z",
     "iopub.status.busy": "2024-12-21T22:32:48.744660Z",
     "iopub.status.idle": "2024-12-21T22:32:48.764595Z",
     "shell.execute_reply": "2024-12-21T22:32:48.763657Z"
    },
    "papermill": {
     "duration": 0.029849,
     "end_time": "2024-12-21T22:32:48.766063",
     "exception": false,
     "start_time": "2024-12-21T22:32:48.736214",
     "status": "completed"
    },
    "tags": []
   },
   "outputs": [
    {
     "data": {
      "text/html": [
       "<div>\n",
       "<style scoped>\n",
       "    .dataframe tbody tr th:only-of-type {\n",
       "        vertical-align: middle;\n",
       "    }\n",
       "\n",
       "    .dataframe tbody tr th {\n",
       "        vertical-align: top;\n",
       "    }\n",
       "\n",
       "    .dataframe thead th {\n",
       "        text-align: right;\n",
       "    }\n",
       "</style>\n",
       "<table border=\"1\" class=\"dataframe\">\n",
       "  <thead>\n",
       "    <tr style=\"text-align: right;\">\n",
       "      <th></th>\n",
       "      <th>assists</th>\n",
       "      <th>boosts</th>\n",
       "      <th>damageDealt</th>\n",
       "      <th>DBNOs</th>\n",
       "      <th>headshotKills</th>\n",
       "      <th>heals</th>\n",
       "      <th>killPlace</th>\n",
       "      <th>killPoints</th>\n",
       "      <th>kills</th>\n",
       "      <th>killStreaks</th>\n",
       "      <th>...</th>\n",
       "      <th>revives</th>\n",
       "      <th>rideDistance</th>\n",
       "      <th>roadKills</th>\n",
       "      <th>swimDistance</th>\n",
       "      <th>teamKills</th>\n",
       "      <th>vehicleDestroys</th>\n",
       "      <th>walkDistance</th>\n",
       "      <th>weaponsAcquired</th>\n",
       "      <th>winPoints</th>\n",
       "      <th>winPlacePerc</th>\n",
       "    </tr>\n",
       "  </thead>\n",
       "  <tbody>\n",
       "    <tr>\n",
       "      <th>536505</th>\n",
       "      <td>2</td>\n",
       "      <td>1</td>\n",
       "      <td>96.83</td>\n",
       "      <td>1</td>\n",
       "      <td>0</td>\n",
       "      <td>0</td>\n",
       "      <td>20</td>\n",
       "      <td>1813</td>\n",
       "      <td>1</td>\n",
       "      <td>1</td>\n",
       "      <td>...</td>\n",
       "      <td>0</td>\n",
       "      <td>3994.0</td>\n",
       "      <td>1</td>\n",
       "      <td>0.0</td>\n",
       "      <td>0</td>\n",
       "      <td>0</td>\n",
       "      <td>2830.00</td>\n",
       "      <td>4</td>\n",
       "      <td>1667</td>\n",
       "      <td>1.0000</td>\n",
       "    </tr>\n",
       "    <tr>\n",
       "      <th>311369</th>\n",
       "      <td>2</td>\n",
       "      <td>4</td>\n",
       "      <td>355.40</td>\n",
       "      <td>2</td>\n",
       "      <td>0</td>\n",
       "      <td>5</td>\n",
       "      <td>31</td>\n",
       "      <td>0</td>\n",
       "      <td>1</td>\n",
       "      <td>1</td>\n",
       "      <td>...</td>\n",
       "      <td>0</td>\n",
       "      <td>0.0</td>\n",
       "      <td>0</td>\n",
       "      <td>0.0</td>\n",
       "      <td>0</td>\n",
       "      <td>0</td>\n",
       "      <td>1852.00</td>\n",
       "      <td>9</td>\n",
       "      <td>0</td>\n",
       "      <td>0.7500</td>\n",
       "    </tr>\n",
       "    <tr>\n",
       "      <th>605771</th>\n",
       "      <td>0</td>\n",
       "      <td>0</td>\n",
       "      <td>70.82</td>\n",
       "      <td>0</td>\n",
       "      <td>0</td>\n",
       "      <td>0</td>\n",
       "      <td>93</td>\n",
       "      <td>0</td>\n",
       "      <td>0</td>\n",
       "      <td>0</td>\n",
       "      <td>...</td>\n",
       "      <td>0</td>\n",
       "      <td>0.0</td>\n",
       "      <td>0</td>\n",
       "      <td>0.0</td>\n",
       "      <td>0</td>\n",
       "      <td>0</td>\n",
       "      <td>174.20</td>\n",
       "      <td>2</td>\n",
       "      <td>0</td>\n",
       "      <td>0.0690</td>\n",
       "    </tr>\n",
       "    <tr>\n",
       "      <th>685228</th>\n",
       "      <td>1</td>\n",
       "      <td>2</td>\n",
       "      <td>158.80</td>\n",
       "      <td>1</td>\n",
       "      <td>0</td>\n",
       "      <td>0</td>\n",
       "      <td>32</td>\n",
       "      <td>1464</td>\n",
       "      <td>1</td>\n",
       "      <td>1</td>\n",
       "      <td>...</td>\n",
       "      <td>0</td>\n",
       "      <td>0.0</td>\n",
       "      <td>0</td>\n",
       "      <td>0.0</td>\n",
       "      <td>0</td>\n",
       "      <td>0</td>\n",
       "      <td>317.90</td>\n",
       "      <td>1</td>\n",
       "      <td>1519</td>\n",
       "      <td>0.4286</td>\n",
       "    </tr>\n",
       "    <tr>\n",
       "      <th>246798</th>\n",
       "      <td>1</td>\n",
       "      <td>2</td>\n",
       "      <td>241.20</td>\n",
       "      <td>4</td>\n",
       "      <td>0</td>\n",
       "      <td>8</td>\n",
       "      <td>15</td>\n",
       "      <td>1299</td>\n",
       "      <td>2</td>\n",
       "      <td>1</td>\n",
       "      <td>...</td>\n",
       "      <td>0</td>\n",
       "      <td>0.0</td>\n",
       "      <td>0</td>\n",
       "      <td>0.0</td>\n",
       "      <td>1</td>\n",
       "      <td>0</td>\n",
       "      <td>1028.00</td>\n",
       "      <td>5</td>\n",
       "      <td>1580</td>\n",
       "      <td>0.6875</td>\n",
       "    </tr>\n",
       "    <tr>\n",
       "      <th>244298</th>\n",
       "      <td>0</td>\n",
       "      <td>0</td>\n",
       "      <td>55.75</td>\n",
       "      <td>0</td>\n",
       "      <td>0</td>\n",
       "      <td>0</td>\n",
       "      <td>53</td>\n",
       "      <td>0</td>\n",
       "      <td>0</td>\n",
       "      <td>0</td>\n",
       "      <td>...</td>\n",
       "      <td>0</td>\n",
       "      <td>0.0</td>\n",
       "      <td>0</td>\n",
       "      <td>0.0</td>\n",
       "      <td>0</td>\n",
       "      <td>0</td>\n",
       "      <td>1699.00</td>\n",
       "      <td>2</td>\n",
       "      <td>0</td>\n",
       "      <td>0.6939</td>\n",
       "    </tr>\n",
       "    <tr>\n",
       "      <th>906020</th>\n",
       "      <td>0</td>\n",
       "      <td>0</td>\n",
       "      <td>0.00</td>\n",
       "      <td>0</td>\n",
       "      <td>0</td>\n",
       "      <td>0</td>\n",
       "      <td>81</td>\n",
       "      <td>0</td>\n",
       "      <td>0</td>\n",
       "      <td>0</td>\n",
       "      <td>...</td>\n",
       "      <td>0</td>\n",
       "      <td>0.0</td>\n",
       "      <td>0</td>\n",
       "      <td>0.0</td>\n",
       "      <td>0</td>\n",
       "      <td>0</td>\n",
       "      <td>58.35</td>\n",
       "      <td>2</td>\n",
       "      <td>0</td>\n",
       "      <td>0.1290</td>\n",
       "    </tr>\n",
       "    <tr>\n",
       "      <th>420069</th>\n",
       "      <td>0</td>\n",
       "      <td>0</td>\n",
       "      <td>0.00</td>\n",
       "      <td>0</td>\n",
       "      <td>0</td>\n",
       "      <td>0</td>\n",
       "      <td>53</td>\n",
       "      <td>0</td>\n",
       "      <td>0</td>\n",
       "      <td>0</td>\n",
       "      <td>...</td>\n",
       "      <td>0</td>\n",
       "      <td>3666.0</td>\n",
       "      <td>0</td>\n",
       "      <td>0.0</td>\n",
       "      <td>0</td>\n",
       "      <td>0</td>\n",
       "      <td>988.60</td>\n",
       "      <td>3</td>\n",
       "      <td>0</td>\n",
       "      <td>0.5778</td>\n",
       "    </tr>\n",
       "    <tr>\n",
       "      <th>245427</th>\n",
       "      <td>1</td>\n",
       "      <td>0</td>\n",
       "      <td>156.70</td>\n",
       "      <td>1</td>\n",
       "      <td>0</td>\n",
       "      <td>0</td>\n",
       "      <td>47</td>\n",
       "      <td>0</td>\n",
       "      <td>0</td>\n",
       "      <td>0</td>\n",
       "      <td>...</td>\n",
       "      <td>0</td>\n",
       "      <td>218.9</td>\n",
       "      <td>0</td>\n",
       "      <td>0.0</td>\n",
       "      <td>0</td>\n",
       "      <td>0</td>\n",
       "      <td>1608.00</td>\n",
       "      <td>5</td>\n",
       "      <td>0</td>\n",
       "      <td>0.5926</td>\n",
       "    </tr>\n",
       "    <tr>\n",
       "      <th>154704</th>\n",
       "      <td>1</td>\n",
       "      <td>2</td>\n",
       "      <td>102.60</td>\n",
       "      <td>0</td>\n",
       "      <td>0</td>\n",
       "      <td>3</td>\n",
       "      <td>70</td>\n",
       "      <td>0</td>\n",
       "      <td>0</td>\n",
       "      <td>0</td>\n",
       "      <td>...</td>\n",
       "      <td>0</td>\n",
       "      <td>0.0</td>\n",
       "      <td>0</td>\n",
       "      <td>0.0</td>\n",
       "      <td>0</td>\n",
       "      <td>0</td>\n",
       "      <td>1320.00</td>\n",
       "      <td>4</td>\n",
       "      <td>0</td>\n",
       "      <td>0.3077</td>\n",
       "    </tr>\n",
       "  </tbody>\n",
       "</table>\n",
       "<p>10 rows × 26 columns</p>\n",
       "</div>"
      ],
      "text/plain": [
       "        assists  boosts  damageDealt  DBNOs  headshotKills  heals  killPlace  \\\n",
       "536505        2       1        96.83      1              0      0         20   \n",
       "311369        2       4       355.40      2              0      5         31   \n",
       "605771        0       0        70.82      0              0      0         93   \n",
       "685228        1       2       158.80      1              0      0         32   \n",
       "246798        1       2       241.20      4              0      8         15   \n",
       "244298        0       0        55.75      0              0      0         53   \n",
       "906020        0       0         0.00      0              0      0         81   \n",
       "420069        0       0         0.00      0              0      0         53   \n",
       "245427        1       0       156.70      1              0      0         47   \n",
       "154704        1       2       102.60      0              0      3         70   \n",
       "\n",
       "        killPoints  kills  killStreaks  ...  revives  rideDistance roadKills  \\\n",
       "536505        1813      1            1  ...        0        3994.0         1   \n",
       "311369           0      1            1  ...        0           0.0         0   \n",
       "605771           0      0            0  ...        0           0.0         0   \n",
       "685228        1464      1            1  ...        0           0.0         0   \n",
       "246798        1299      2            1  ...        0           0.0         0   \n",
       "244298           0      0            0  ...        0           0.0         0   \n",
       "906020           0      0            0  ...        0           0.0         0   \n",
       "420069           0      0            0  ...        0        3666.0         0   \n",
       "245427           0      0            0  ...        0         218.9         0   \n",
       "154704           0      0            0  ...        0           0.0         0   \n",
       "\n",
       "        swimDistance  teamKills  vehicleDestroys  walkDistance  \\\n",
       "536505           0.0          0                0       2830.00   \n",
       "311369           0.0          0                0       1852.00   \n",
       "605771           0.0          0                0        174.20   \n",
       "685228           0.0          0                0        317.90   \n",
       "246798           0.0          1                0       1028.00   \n",
       "244298           0.0          0                0       1699.00   \n",
       "906020           0.0          0                0         58.35   \n",
       "420069           0.0          0                0        988.60   \n",
       "245427           0.0          0                0       1608.00   \n",
       "154704           0.0          0                0       1320.00   \n",
       "\n",
       "        weaponsAcquired  winPoints  winPlacePerc  \n",
       "536505                4       1667        1.0000  \n",
       "311369                9          0        0.7500  \n",
       "605771                2          0        0.0690  \n",
       "685228                1       1519        0.4286  \n",
       "246798                5       1580        0.6875  \n",
       "244298                2          0        0.6939  \n",
       "906020                2          0        0.1290  \n",
       "420069                3          0        0.5778  \n",
       "245427                5          0        0.5926  \n",
       "154704                4          0        0.3077  \n",
       "\n",
       "[10 rows x 26 columns]"
      ]
     },
     "execution_count": 14,
     "metadata": {},
     "output_type": "execute_result"
    }
   ],
   "source": [
    "data.head(10)"
   ]
  },
  {
   "cell_type": "code",
   "execution_count": 15,
   "id": "775d3e65",
   "metadata": {
    "execution": {
     "iopub.execute_input": "2024-12-21T22:32:48.784098Z",
     "iopub.status.busy": "2024-12-21T22:32:48.783769Z",
     "iopub.status.idle": "2024-12-21T22:32:48.790538Z",
     "shell.execute_reply": "2024-12-21T22:32:48.789697Z"
    },
    "papermill": {
     "duration": 0.017537,
     "end_time": "2024-12-21T22:32:48.792065",
     "exception": false,
     "start_time": "2024-12-21T22:32:48.774528",
     "status": "completed"
    },
    "tags": []
   },
   "outputs": [
    {
     "data": {
      "text/plain": [
       "assists              int64\n",
       "boosts               int64\n",
       "damageDealt        float64\n",
       "DBNOs                int64\n",
       "headshotKills        int64\n",
       "heals                int64\n",
       "killPlace            int64\n",
       "killPoints           int64\n",
       "kills                int64\n",
       "killStreaks          int64\n",
       "longestKill        float64\n",
       "matchDuration        int64\n",
       "matchType           object\n",
       "maxPlace             int64\n",
       "numGroups            int64\n",
       "rankPoints           int64\n",
       "revives              int64\n",
       "rideDistance       float64\n",
       "roadKills            int64\n",
       "swimDistance       float64\n",
       "teamKills            int64\n",
       "vehicleDestroys      int64\n",
       "walkDistance       float64\n",
       "weaponsAcquired      int64\n",
       "winPoints            int64\n",
       "winPlacePerc       float64\n",
       "dtype: object"
      ]
     },
     "execution_count": 15,
     "metadata": {},
     "output_type": "execute_result"
    }
   ],
   "source": [
    "data.dtypes"
   ]
  },
  {
   "cell_type": "markdown",
   "id": "a1e69894",
   "metadata": {
    "papermill": {
     "duration": 0.008309,
     "end_time": "2024-12-21T22:32:48.808806",
     "exception": false,
     "start_time": "2024-12-21T22:32:48.800497",
     "status": "completed"
    },
    "tags": []
   },
   "source": [
    "#categorical data -> matchType ,teamkills \n",
    "#numerical data -> dataset except(matchtype)"
   ]
  },
  {
   "cell_type": "code",
   "execution_count": 16,
   "id": "940ea938",
   "metadata": {
    "execution": {
     "iopub.execute_input": "2024-12-21T22:32:48.826791Z",
     "iopub.status.busy": "2024-12-21T22:32:48.826447Z",
     "iopub.status.idle": "2024-12-21T22:32:48.835238Z",
     "shell.execute_reply": "2024-12-21T22:32:48.834374Z"
    },
    "papermill": {
     "duration": 0.019592,
     "end_time": "2024-12-21T22:32:48.836687",
     "exception": false,
     "start_time": "2024-12-21T22:32:48.817095",
     "status": "completed"
    },
    "tags": []
   },
   "outputs": [
    {
     "data": {
      "text/plain": [
       "teamKills\n",
       "0    108790\n",
       "1      2197\n",
       "2       166\n",
       "3        19\n",
       "4         2\n",
       "Name: count, dtype: int64"
      ]
     },
     "execution_count": 16,
     "metadata": {},
     "output_type": "execute_result"
    }
   ],
   "source": [
    "data['teamKills'].value_counts()"
   ]
  },
  {
   "cell_type": "code",
   "execution_count": 17,
   "id": "e398f08a",
   "metadata": {
    "execution": {
     "iopub.execute_input": "2024-12-21T22:32:48.854952Z",
     "iopub.status.busy": "2024-12-21T22:32:48.854608Z",
     "iopub.status.idle": "2024-12-21T22:32:48.860707Z",
     "shell.execute_reply": "2024-12-21T22:32:48.859849Z"
    },
    "papermill": {
     "duration": 0.017061,
     "end_time": "2024-12-21T22:32:48.862274",
     "exception": false,
     "start_time": "2024-12-21T22:32:48.845213",
     "status": "completed"
    },
    "tags": []
   },
   "outputs": [
    {
     "data": {
      "text/plain": [
       "47"
      ]
     },
     "execution_count": 17,
     "metadata": {},
     "output_type": "execute_result"
    }
   ],
   "source": [
    "data['kills'].max()"
   ]
  },
  {
   "cell_type": "code",
   "execution_count": 18,
   "id": "c7b74ca5",
   "metadata": {
    "execution": {
     "iopub.execute_input": "2024-12-21T22:32:48.880832Z",
     "iopub.status.busy": "2024-12-21T22:32:48.880495Z",
     "iopub.status.idle": "2024-12-21T22:32:48.886853Z",
     "shell.execute_reply": "2024-12-21T22:32:48.885532Z"
    },
    "papermill": {
     "duration": 0.017506,
     "end_time": "2024-12-21T22:32:48.888487",
     "exception": false,
     "start_time": "2024-12-21T22:32:48.870981",
     "status": "completed"
    },
    "tags": []
   },
   "outputs": [
    {
     "data": {
      "text/plain": [
       "49"
      ]
     },
     "execution_count": 18,
     "metadata": {},
     "output_type": "execute_result"
    }
   ],
   "source": [
    "data['heals'].max()"
   ]
  },
  {
   "cell_type": "code",
   "execution_count": 19,
   "id": "3b9f9333",
   "metadata": {
    "execution": {
     "iopub.execute_input": "2024-12-21T22:32:48.907868Z",
     "iopub.status.busy": "2024-12-21T22:32:48.907511Z",
     "iopub.status.idle": "2024-12-21T22:32:48.916889Z",
     "shell.execute_reply": "2024-12-21T22:32:48.914922Z"
    },
    "papermill": {
     "duration": 0.020936,
     "end_time": "2024-12-21T22:32:48.918797",
     "exception": false,
     "start_time": "2024-12-21T22:32:48.897861",
     "status": "completed"
    },
    "tags": []
   },
   "outputs": [
    {
     "data": {
      "text/plain": [
       "revives\n",
       "0     96487\n",
       "1     11801\n",
       "2      2358\n",
       "3       444\n",
       "4        58\n",
       "5        11\n",
       "6         5\n",
       "7         3\n",
       "8         3\n",
       "18        1\n",
       "16        1\n",
       "23        1\n",
       "15        1\n",
       "Name: count, dtype: int64"
      ]
     },
     "execution_count": 19,
     "metadata": {},
     "output_type": "execute_result"
    }
   ],
   "source": [
    "data['revives'].value_counts()"
   ]
  },
  {
   "cell_type": "code",
   "execution_count": 20,
   "id": "eab60fb3",
   "metadata": {
    "execution": {
     "iopub.execute_input": "2024-12-21T22:32:48.937799Z",
     "iopub.status.busy": "2024-12-21T22:32:48.937461Z",
     "iopub.status.idle": "2024-12-21T22:32:48.944773Z",
     "shell.execute_reply": "2024-12-21T22:32:48.943851Z"
    },
    "papermill": {
     "duration": 0.018373,
     "end_time": "2024-12-21T22:32:48.946243",
     "exception": false,
     "start_time": "2024-12-21T22:32:48.927870",
     "status": "completed"
    },
    "tags": []
   },
   "outputs": [
    {
     "data": {
      "text/plain": [
       "DBNOs\n",
       "0     69324\n",
       "1     24634\n",
       "2      9824\n",
       "3      4050\n",
       "4      1745\n",
       "5       795\n",
       "6       400\n",
       "7       188\n",
       "8        84\n",
       "9        53\n",
       "10       25\n",
       "11       17\n",
       "12       13\n",
       "13        5\n",
       "15        5\n",
       "16        3\n",
       "23        3\n",
       "18        2\n",
       "17        1\n",
       "14        1\n",
       "21        1\n",
       "22        1\n",
       "Name: count, dtype: int64"
      ]
     },
     "execution_count": 20,
     "metadata": {},
     "output_type": "execute_result"
    }
   ],
   "source": [
    "data['DBNOs'].value_counts()"
   ]
  },
  {
   "cell_type": "code",
   "execution_count": 21,
   "id": "6ff673fd",
   "metadata": {
    "execution": {
     "iopub.execute_input": "2024-12-21T22:32:48.966893Z",
     "iopub.status.busy": "2024-12-21T22:32:48.966573Z",
     "iopub.status.idle": "2024-12-21T22:32:48.981811Z",
     "shell.execute_reply": "2024-12-21T22:32:48.980824Z"
    },
    "papermill": {
     "duration": 0.027253,
     "end_time": "2024-12-21T22:32:48.983413",
     "exception": false,
     "start_time": "2024-12-21T22:32:48.956160",
     "status": "completed"
    },
    "tags": []
   },
   "outputs": [
    {
     "data": {
      "text/plain": [
       "matchType\n",
       "squad-fpp           43877\n",
       "duo-fpp             24956\n",
       "squad               15575\n",
       "solo-fpp            13466\n",
       "duo                  7927\n",
       "solo                 4468\n",
       "normal-squad-fpp      438\n",
       "crashfpp              164\n",
       "normal-duo-fpp        142\n",
       "flaretpp               61\n",
       "normal-solo-fpp        50\n",
       "flarefpp               19\n",
       "crashtpp               11\n",
       "normal-squad           10\n",
       "normal-solo             7\n",
       "normal-duo              3\n",
       "Name: count, dtype: int64"
      ]
     },
     "execution_count": 21,
     "metadata": {},
     "output_type": "execute_result"
    }
   ],
   "source": [
    "data['matchType'].value_counts()"
   ]
  },
  {
   "cell_type": "code",
   "execution_count": 22,
   "id": "f737e616",
   "metadata": {
    "execution": {
     "iopub.execute_input": "2024-12-21T22:32:49.002352Z",
     "iopub.status.busy": "2024-12-21T22:32:49.002005Z",
     "iopub.status.idle": "2024-12-21T22:32:50.633727Z",
     "shell.execute_reply": "2024-12-21T22:32:50.632896Z"
    },
    "papermill": {
     "duration": 1.643177,
     "end_time": "2024-12-21T22:32:50.635568",
     "exception": false,
     "start_time": "2024-12-21T22:32:48.992391",
     "status": "completed"
    },
    "tags": []
   },
   "outputs": [],
   "source": [
    "import matplotlib.pyplot as plt\n",
    "import seaborn as sns"
   ]
  },
  {
   "cell_type": "code",
   "execution_count": 23,
   "id": "c1a98fd2",
   "metadata": {
    "execution": {
     "iopub.execute_input": "2024-12-21T22:32:50.659947Z",
     "iopub.status.busy": "2024-12-21T22:32:50.659324Z",
     "iopub.status.idle": "2024-12-21T22:32:51.205520Z",
     "shell.execute_reply": "2024-12-21T22:32:51.204427Z"
    },
    "papermill": {
     "duration": 0.562298,
     "end_time": "2024-12-21T22:32:51.207419",
     "exception": false,
     "start_time": "2024-12-21T22:32:50.645121",
     "status": "completed"
    },
    "tags": []
   },
   "outputs": [
    {
     "data": {
      "image/png": "[encoded data removed]",
      "text/plain": [
       "<Figure size 2500x1000 with 1 Axes>"
      ]
     },
     "metadata": {},
     "output_type": "display_data"
    }
   ],
   "source": [
    "plt.figure(figsize=(25,10))\n",
    "sns.countplot(data=data,x=data['kills'])\n",
    "plt.title('Kills Count')\n",
    "plt.xlabel('kills',fontsize=15)\n",
    "plt.ylabel('count',fontsize=10)\n",
    "plt.show()"
   ]
  },
  {
   "cell_type": "code",
   "execution_count": 24,
   "id": "326aa567",
   "metadata": {
    "execution": {
     "iopub.execute_input": "2024-12-21T22:32:51.228481Z",
     "iopub.status.busy": "2024-12-21T22:32:51.228014Z",
     "iopub.status.idle": "2024-12-21T22:32:51.235206Z",
     "shell.execute_reply": "2024-12-21T22:32:51.234236Z"
    },
    "papermill": {
     "duration": 0.01948,
     "end_time": "2024-12-21T22:32:51.236854",
     "exception": false,
     "start_time": "2024-12-21T22:32:51.217374",
     "status": "completed"
    },
    "tags": []
   },
   "outputs": [
    {
     "name": "stdout",
     "output_type": "stream",
     "text": [
      "The average of players kills:  0.9268623958839297\n",
      "maximum kill:  47\n"
     ]
    }
   ],
   "source": [
    "print('The average of players kills: ',data['kills'].mean())\n",
    "print('maximum kill: ',data['kills'].max())"
   ]
  },
  {
   "cell_type": "code",
   "execution_count": 25,
   "id": "b2e87f7a",
   "metadata": {
    "execution": {
     "iopub.execute_input": "2024-12-21T22:32:51.257412Z",
     "iopub.status.busy": "2024-12-21T22:32:51.257052Z",
     "iopub.status.idle": "2024-12-21T22:32:51.687245Z",
     "shell.execute_reply": "2024-12-21T22:32:51.686075Z"
    },
    "papermill": {
     "duration": 0.44232,
     "end_time": "2024-12-21T22:32:51.688922",
     "exception": false,
     "start_time": "2024-12-21T22:32:51.246602",
     "status": "completed"
    },
    "tags": []
   },
   "outputs": [
    {
     "data": {
      "image/png": "[encoded data removed]",
      "text/plain": [
       "<Figure size 2000x1000 with 1 Axes>"
      ]
     },
     "metadata": {},
     "output_type": "display_data"
    }
   ],
   "source": [
    "plt.figure(figsize=(20,10))\n",
    "sns.countplot(data=data,x=data['matchType'] )\n",
    "plt.title('Match Type',fontsize=15)\n",
    "plt.xlabel('Match Type', fontsize=15)\n",
    "plt.ylabel('Count',fontsize=13)\n",
    "plt.xticks(rotation=90)\n",
    "plt.show()"
   ]
  },
  {
   "cell_type": "markdown",
   "id": "ea773e4d",
   "metadata": {
    "papermill": {
     "duration": 0.010396,
     "end_time": "2024-12-21T22:32:51.710097",
     "exception": false,
     "start_time": "2024-12-21T22:32:51.699701",
     "status": "completed"
    },
    "tags": []
   },
   "source": [
    "#The most played game is (squad-fpp)\n",
    "#The least played game is (normal-due)"
   ]
  },
  {
   "cell_type": "code",
   "execution_count": 26,
   "id": "946a76c4",
   "metadata": {
    "execution": {
     "iopub.execute_input": "2024-12-21T22:32:51.734098Z",
     "iopub.status.busy": "2024-12-21T22:32:51.733776Z",
     "iopub.status.idle": "2024-12-21T22:32:52.279881Z",
     "shell.execute_reply": "2024-12-21T22:32:52.278842Z"
    },
    "papermill": {
     "duration": 0.561018,
     "end_time": "2024-12-21T22:32:52.281679",
     "exception": false,
     "start_time": "2024-12-21T22:32:51.720661",
     "status": "completed"
    },
    "tags": []
   },
   "outputs": [
    {
     "name": "stderr",
     "output_type": "stream",
     "text": [
      "/usr/local/lib/python3.10/dist-packages/seaborn/_oldcore.py:1119: FutureWarning: use_inf_as_na option is deprecated and will be removed in a future version. Convert inf values to NaN before operating instead.\n",
      "  with pd.option_context('mode.use_inf_as_na', True):\n"
     ]
    },
    {
     "data": {
      "text/plain": [
       "<Figure size 2000x1000 with 0 Axes>"
      ]
     },
     "metadata": {},
     "output_type": "display_data"
    },
    {
     "data": {
      "image/png": "[encoded data removed]",
      "text/plain": [
       "<Figure size 500x500 with 1 Axes>"
      ]
     },
     "metadata": {},
     "output_type": "display_data"
    }
   ],
   "source": [
    "plt.figure(figsize=(20,10))\n",
    "sns.displot(data=data,x=data['matchDuration'] )\n",
    "plt.title('Match Duration plot',fontsize=15)\n",
    "plt.xlabel('MatchDuration', fontsize=15)\n",
    "plt.ylabel('Count',fontsize=13)\n",
    "plt.show()"
   ]
  },
  {
   "cell_type": "code",
   "execution_count": 27,
   "id": "83e83c5e",
   "metadata": {
    "execution": {
     "iopub.execute_input": "2024-12-21T22:32:52.308211Z",
     "iopub.status.busy": "2024-12-21T22:32:52.307869Z",
     "iopub.status.idle": "2024-12-21T22:32:57.748891Z",
     "shell.execute_reply": "2024-12-21T22:32:57.747781Z"
    },
    "papermill": {
     "duration": 5.457925,
     "end_time": "2024-12-21T22:32:57.751698",
     "exception": false,
     "start_time": "2024-12-21T22:32:52.293773",
     "status": "completed"
    },
    "tags": []
   },
   "outputs": [
    {
     "data": {
      "text/plain": [
       "<Axes: xlabel='heals', ylabel='revives'>"
      ]
     },
     "execution_count": 27,
     "metadata": {},
     "output_type": "execute_result"
    },
    {
     "data": {
      "image/png": "[encoded data removed]",
      "text/plain": [
       "<Figure size 2000x1000 with 1 Axes>"
      ]
     },
     "metadata": {},
     "output_type": "display_data"
    }
   ],
   "source": [
    "plt.figure(figsize=(20,10))\n",
    "sns.scatterplot(x=data['heals'],y=data['revives'],hue=data['matchType'])"
   ]
  },
  {
   "cell_type": "code",
   "execution_count": 28,
   "id": "f5231299",
   "metadata": {
    "execution": {
     "iopub.execute_input": "2024-12-21T22:32:57.780243Z",
     "iopub.status.busy": "2024-12-21T22:32:57.779925Z",
     "iopub.status.idle": "2024-12-21T22:32:59.644015Z",
     "shell.execute_reply": "2024-12-21T22:32:59.642968Z"
    },
    "papermill": {
     "duration": 1.879911,
     "end_time": "2024-12-21T22:32:59.646073",
     "exception": false,
     "start_time": "2024-12-21T22:32:57.766162",
     "status": "completed"
    },
    "tags": []
   },
   "outputs": [
    {
     "name": "stderr",
     "output_type": "stream",
     "text": [
      "/usr/local/lib/python3.10/dist-packages/seaborn/_oldcore.py:1119: FutureWarning: use_inf_as_na option is deprecated and will be removed in a future version. Convert inf values to NaN before operating instead.\n",
      "  with pd.option_context('mode.use_inf_as_na', True):\n",
      "/usr/local/lib/python3.10/dist-packages/seaborn/_oldcore.py:1119: FutureWarning: use_inf_as_na option is deprecated and will be removed in a future version. Convert inf values to NaN before operating instead.\n",
      "  with pd.option_context('mode.use_inf_as_na', True):\n"
     ]
    },
    {
     "data": {
      "text/plain": [
       "<seaborn.axisgrid.JointGrid at 0x7f578e353760>"
      ]
     },
     "execution_count": 28,
     "metadata": {},
     "output_type": "execute_result"
    },
    {
     "data": {
      "image/png": "[encoded data removed]",
      "text/plain": [
       "<Figure size 600x600 with 3 Axes>"
      ]
     },
     "metadata": {},
     "output_type": "display_data"
    }
   ],
   "source": [
    "sns.jointplot(x='winPlacePerc', y='damageDealt', data=data)"
   ]
  },
  {
   "cell_type": "code",
   "execution_count": 29,
   "id": "8c33b20e",
   "metadata": {
    "execution": {
     "iopub.execute_input": "2024-12-21T22:32:59.678333Z",
     "iopub.status.busy": "2024-12-21T22:32:59.677970Z",
     "iopub.status.idle": "2024-12-21T22:33:02.598352Z",
     "shell.execute_reply": "2024-12-21T22:33:02.597378Z"
    },
    "papermill": {
     "duration": 2.9384,
     "end_time": "2024-12-21T22:33:02.599892",
     "exception": false,
     "start_time": "2024-12-21T22:32:59.661492",
     "status": "completed"
    },
    "tags": []
   },
   "outputs": [
    {
     "name": "stderr",
     "output_type": "stream",
     "text": [
      "/usr/local/lib/python3.10/dist-packages/seaborn/_oldcore.py:1119: FutureWarning: use_inf_as_na option is deprecated and will be removed in a future version. Convert inf values to NaN before operating instead.\n",
      "  with pd.option_context('mode.use_inf_as_na', True):\n",
      "/usr/local/lib/python3.10/dist-packages/seaborn/_oldcore.py:1119: FutureWarning: use_inf_as_na option is deprecated and will be removed in a future version. Convert inf values to NaN before operating instead.\n",
      "  with pd.option_context('mode.use_inf_as_na', True):\n"
     ]
    },
    {
     "data": {
      "text/plain": [
       "<Figure size 1000x500 with 0 Axes>"
      ]
     },
     "metadata": {},
     "output_type": "display_data"
    },
    {
     "data": {
      "image/png": "[encoded data removed]",
      "text/plain": [
       "<Figure size 600x600 with 3 Axes>"
      ]
     },
     "metadata": {},
     "output_type": "display_data"
    }
   ],
   "source": [
    "plt.figure(figsize=(10,5))\n",
    "sns.jointplot(x=data['kills'],y=data['damageDealt'],data=data)\n",
    "plt.title('Kills - DamageDealt plot')\n",
    "plt.show()"
   ]
  },
  {
   "cell_type": "code",
   "execution_count": 30,
   "id": "0637fd45",
   "metadata": {
    "execution": {
     "iopub.execute_input": "2024-12-21T22:33:02.634273Z",
     "iopub.status.busy": "2024-12-21T22:33:02.633931Z",
     "iopub.status.idle": "2024-12-21T22:33:04.191838Z",
     "shell.execute_reply": "2024-12-21T22:33:04.190749Z"
    },
    "papermill": {
     "duration": 1.577613,
     "end_time": "2024-12-21T22:33:04.193684",
     "exception": false,
     "start_time": "2024-12-21T22:33:02.616071",
     "status": "completed"
    },
    "tags": []
   },
   "outputs": [
    {
     "name": "stderr",
     "output_type": "stream",
     "text": [
      "/usr/local/lib/python3.10/dist-packages/seaborn/_oldcore.py:1119: FutureWarning: use_inf_as_na option is deprecated and will be removed in a future version. Convert inf values to NaN before operating instead.\n",
      "  with pd.option_context('mode.use_inf_as_na', True):\n",
      "/usr/local/lib/python3.10/dist-packages/seaborn/_oldcore.py:1119: FutureWarning: use_inf_as_na option is deprecated and will be removed in a future version. Convert inf values to NaN before operating instead.\n",
      "  with pd.option_context('mode.use_inf_as_na', True):\n"
     ]
    },
    {
     "data": {
      "text/plain": [
       "<Figure size 1500x1000 with 0 Axes>"
      ]
     },
     "metadata": {},
     "output_type": "display_data"
    },
    {
     "data": {
      "image/png": "[encoded data removed]",
      "text/plain": [
       "<Figure size 600x600 with 3 Axes>"
      ]
     },
     "metadata": {},
     "output_type": "display_data"
    }
   ],
   "source": [
    "plt.figure(figsize=(15,10))\n",
    "sns.jointplot(x='winPlacePerc', y='killStreaks', data=data)\n",
    "plt.xlabel('WinPlacePrec', fontsize=15)\n",
    "plt.ylabel('Killstreaks',fontsize=13)\n",
    "plt.show()"
   ]
  },
  {
   "cell_type": "code",
   "execution_count": 31,
   "id": "0ef07d8f",
   "metadata": {
    "execution": {
     "iopub.execute_input": "2024-12-21T22:33:04.228793Z",
     "iopub.status.busy": "2024-12-21T22:33:04.228445Z",
     "iopub.status.idle": "2024-12-21T22:33:14.556584Z",
     "shell.execute_reply": "2024-12-21T22:33:14.555685Z"
    },
    "papermill": {
     "duration": 10.347852,
     "end_time": "2024-12-21T22:33:14.558771",
     "exception": false,
     "start_time": "2024-12-21T22:33:04.210919",
     "status": "completed"
    },
    "tags": []
   },
   "outputs": [],
   "source": [
    "df.to_csv('new_data.csv',index=False)"
   ]
  }
 ],
 "metadata": {
  "kaggle": {
   "accelerator": "none",
   "dataSources": [
    {
     "datasetId": 1377394,
     "sourceId": 2286042,
     "sourceType": "datasetVersion"
    }
   ],
   "dockerImageVersionId": 30822,
   "isGpuEnabled": false,
   "isInternetEnabled": false,
   "language": "python",
   "sourceType": "notebook"
  },
  "kernelspec": {
   "display_name": "Python 3",
   "language": "python",
   "name": "python3"
  },
  "language_info": {
   "codemirror_mode": {
    "name": "ipython",
    "version": 3
   },
   "file_extension": ".py",
   "mimetype": "text/x-python",
   "name": "python",
   "nbconvert_exporter": "python",
   "pygments_lexer": "ipython3",
   "version": "3.10.12"
  },
  "papermill": {
   "default_parameters": {},
   "duration": 38.099674,
   "end_time": "2024-12-21T22:33:15.496840",
   "environment_variables": {},
   "exception": null,
   "input_path": "__notebook__.ipynb",
   "output_path": "__notebook__.ipynb",
   "parameters": {},
   "start_time": "2024-12-21T22:32:37.397166",
   "version": "2.6.0"
  }
 },
 "nbformat": 4,
 "nbformat_minor": 5
}
